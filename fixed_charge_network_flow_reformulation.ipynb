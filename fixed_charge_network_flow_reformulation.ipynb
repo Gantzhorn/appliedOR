{
 "cells": [
  {
   "cell_type": "markdown",
   "id": "841bf2e3-155c-432a-bf75-46b94ff600d1",
   "metadata": {
    "id": "841bf2e3-155c-432a-bf75-46b94ff600d1"
   },
   "source": [
    "# Reformultating The Fixed Charge Network Flow\n",
    "\n",
    "From the notes we know that we can reformulate the problems\n",
    "\n",
    "\\begin{align*}\n",
    "\\min &\\sum_{(i,j)\\in A} c_{ij} \\sum_{t\\in T} w_{ij}^t + q_{ij}x_{ij} \\\\\n",
    "&\\sum_{j\\in V^{-}(r)} w_{jr}^t - \\sum_{j\\in V^+(r)} w_{rj}^t = -b_t, \\qquad && t\\in T\\\\\n",
    "&\\sum_{j\\in V^{-}(r)} w_{ji}^t - \\sum_{j\\in V^+(r)} w_{ij}^t = 0, \\qquad && i\\in V\\setminus \\{r\\}. t \\in T, t \\neq i\\\\\n",
    "&\\sum_{j\\in V^{-}(r)} w_{jt}^t - \\sum_{j\\in V^+(r)} w_{tj}^t = b_t, \\qquad && t\\in T\\\\\n",
    "& w_{ij}^t \\leq b_tx_{ij} \\qquad && (i,j)\\in A, t\\in T\\\\\n",
    "& w_{ij}^t \\geq 0, x_{ij} \\in\\{0,1\\} \\qquad && (i,j)\\in A, t\\in T\n",
    "\\end{align*}\n",
    "Where\n",
    "$ T = \\{v\\in V\\setminus \\{r\\} : b_v > 0\\}$"
   ]
  },
  {
   "cell_type": "markdown",
   "id": "BCKzOg0u7f-x",
   "metadata": {
    "id": "BCKzOg0u7f-x"
   },
   "source": [
    "### By Anders G. Kristensen (tzk942) and Karl P. Nørgaard (cth443)"
   ]
  },
  {
   "cell_type": "markdown",
   "id": "64fbecc9-6c24-49d6-a62f-57080cd45452",
   "metadata": {
    "id": "64fbecc9-6c24-49d6-a62f-57080cd45452"
   },
   "source": [
    "# 0: Initiation"
   ]
  },
  {
   "cell_type": "markdown",
   "id": "7GOPnSB2pSFo",
   "metadata": {
    "id": "7GOPnSB2pSFo"
   },
   "source": [
    "### 0.1: Environment"
   ]
  },
  {
   "cell_type": "code",
   "execution_count": null,
   "id": "60-rmoTwpQtE",
   "metadata": {
    "colab": {
     "base_uri": "https://localhost:8080/"
    },
    "executionInfo": {
     "elapsed": 7404,
     "status": "ok",
     "timestamp": 1698133748618,
     "user": {
      "displayName": "Karl Nørgaard",
      "userId": "13679087945431621420"
     },
     "user_tz": -120
    },
    "id": "60-rmoTwpQtE",
    "outputId": "3bd0c8ff-a3bf-48f4-9ab9-3383c6809fe6",
    "tags": []
   },
   "outputs": [],
   "source": [
    "#Insert gurobi license to run\n",
    "!pip install gurobipy\n",
    "import gurobipy as gp\n",
    "params = {\n",
    "\"WLSACCESSID\": \"\",\n",
    "\"WLSSECRET\":\"\",\n",
    "\"LICENSEID\":\n",
    "}\n",
    "env = gp.Env(params=params)"
   ]
  },
  {
   "cell_type": "markdown",
   "id": "0437c58c-2eeb-4b9c-b188-8085d90f4432",
   "metadata": {
    "id": "0437c58c-2eeb-4b9c-b188-8085d90f4432"
   },
   "source": [
    "### 0.2: Data"
   ]
  },
  {
   "cell_type": "code",
   "execution_count": 2,
   "id": "0e688d85-e03f-4cd7-9c59-82ddc88d7337",
   "metadata": {
    "id": "0e688d85-e03f-4cd7-9c59-82ddc88d7337",
    "tags": []
   },
   "outputs": [],
   "source": [
    "import random as r\n",
    "import gurobipy as gp\n",
    "from gurobipy import GRB, quicksum, Model\n",
    "import matplotlib.pyplot as plt\n",
    "import numpy as np\n",
    "import time as t\n",
    "import networkx as nx\n",
    "import seaborn as sns\n",
    "\n",
    "class FCNFP:\n",
    "    '''\n",
    "    This class represents the blueprint for instances of the Fixed Charge Network Flow Problem.\n",
    "    The constructor generates random instances for of a given size. We also need to pass a seed which\n",
    "    initializes the random number generator. Each value of the seed corresponds to a different instance of the problem.\n",
    "    '''\n",
    "    def __init__(self,n_nodes:int, seed:int):\n",
    "        r.seed(seed)\n",
    "        self.nodes = [i+1 for i in range(n_nodes)]\n",
    "        self.arcs = [(i,j) for i in self.nodes for j in self.nodes if (i != 0) and (r.random() > 0.3)]\n",
    "        self.flow_cost = {(i,j): 20 + 20 * r.random() for (i,j) in self.arcs}\n",
    "        self.fixed_cost = {(i,j): 200 + 200 * r.random() for (i,j) in self.arcs}\n",
    "        # We arbitrarilyy designate node 1 as the root\n",
    "        self.demand = {i: int(50)+ r.randint(0,25) for i in self.nodes if i > 1}\n",
    "        self.demand[1] = -sum(self.demand.values())\n",
    "\n",
    "        # Create graph\n",
    "        self.G = nx.DiGraph()\n",
    "        for (i, j) in self.arcs:\n",
    "            self.G.add_edge(i, j, flow_cost=self.flow_cost[(i, j)])\n",
    "\n",
    "    #Reducing data by discarding arcs that can be immediately ruled out of any optimal solution\n",
    "\n",
    "    def reduce_data(self):\n",
    "        self.nodes_connected_to_root = {j for (i, j) in self.arcs if i == 1}\n",
    "        self.nodes_connected_to_root_with_lowcost = {j for (i, j) in self.arcs if i == 1 and self.flow_cost[(i, j)] <= 36}\n",
    "\n",
    "        self.nodes_not_connected_to_root = [i for i in self.nodes if i not in self.nodes_connected_to_root and i > 1]\n",
    "\n",
    "\n",
    "        # Combine conditions to reduce arcs in one go\n",
    "        self.arcs = [\n",
    "        (i, j) for (i, j) in self.arcs if\n",
    "        (i == 1 and j != 1) or\n",
    "        (i != 1 and j != 1 and i != j and j not in self.nodes_connected_to_root_with_lowcost)\n",
    "        ]\n",
    "\n",
    "        self.arcs = [\n",
    "        (i,j) for (i,j) in self.arcs if not (j in self.nodes_connected_to_root and i not in self.nodes_connected_to_root)\n",
    "        or i==1]\n",
    "\n",
    "        arcs_to_remove = []\n",
    "\n",
    "\n",
    "        for i in list(self.nodes_connected_to_root)[1:]:\n",
    "            for j in self.nodes_connected_to_root:\n",
    "                if (i, j) in self.arcs:\n",
    "                    # Calculate the sum of the flow costs\n",
    "                    cost_sum = self.flow_cost[(1, i)] + self.flow_cost[(i, j)]\n",
    "\n",
    "                    # Calculate the threshold\n",
    "                    threshold = (self.fixed_cost[1,j] - self.fixed_cost[i,j]) / self.demand[j] + self.flow_cost[(1, j)]\n",
    "\n",
    "                    # Check if the condition holds\n",
    "                    if cost_sum > threshold:\n",
    "                        arcs_to_remove.append((i, j))\n",
    "\n",
    "        #Removing arcs\n",
    "        for arc in arcs_to_remove:\n",
    "            self.arcs.remove(arc)\n",
    "\n",
    "\n",
    "        self.nodes_only_connected_to_root = {j for j in self.nodes_connected_to_root if all(i == 1 for (i, _) in self.arcs if _ == j)}\n",
    "\n",
    "        self.two_way_arcs = [(i,j) for (i,j) in self.arcs if (j,i) in self.arcs and i < j]\n",
    "\n",
    "        # Efficiently filter out arcs for flow_cost and fixed_cost\n",
    "        arcs_set = set(self.arcs)\n",
    "        self.flow_cost = {(i, j): cost for (i, j), cost in self.flow_cost.items() if (i, j) in arcs_set}\n",
    "        self.fixed_cost = {(i, j): cost for (i, j), cost in self.fixed_cost.items() if (i, j) in arcs_set}\n",
    "\n",
    "    #Finding best paths to each terminal in naïve problem with no fixed cost\n",
    "    def compute_minimum_path_cost(self, target_node):\n",
    "        shortest_path_length = nx.single_source_dijkstra_path_length(self.G, 1, weight='flow_cost')\n",
    "        return shortest_path_length.get(target_node, float('inf'))\n",
    "\n",
    "    #Computing total flow cost in naïve problem\n",
    "    def compute_improved_lower_bound(self):\n",
    "        improved_lower_bound = 0\n",
    "        for node in self.nodes:\n",
    "            if node != 1:  # Exclude the root\n",
    "                min_path_cost = self.compute_minimum_path_cost(node)\n",
    "                improved_lower_bound += self.demand[node] * min_path_cost\n",
    "        return improved_lower_bound\n",
    "\n",
    "    # Constructing a first-best heuristic solution\n",
    "    def heuristic_solution(self):\n",
    "        activated_arcs = set()\n",
    "\n",
    "        for node in self.nodes:\n",
    "            if node != 1:\n",
    "                path = nx.single_source_dijkstra_path(self.G, 1, weight='flow_cost').get(node)\n",
    "                if path:\n",
    "                    # Extract arcs from the path\n",
    "                    for i in range(len(path) - 1):\n",
    "                        activated_arcs.add((path[i], path[i+1]))\n",
    "\n",
    "        # Compute the objective for the heuristic solution\n",
    "        fixed_costs_activated = sum([self.fixed_cost[arc] for arc in activated_arcs])\n",
    "        heuristic_obj = fixed_costs_activated + self.compute_improved_lower_bound()\n",
    "\n",
    "        return heuristic_obj, activated_arcs"
   ]
  },
  {
   "cell_type": "markdown",
   "id": "8ece5b7e-edd6-4b94-b194-db88754d90d1",
   "metadata": {
    "id": "8ece5b7e-edd6-4b94-b194-db88754d90d1",
    "tags": []
   },
   "source": [
    "# 1: Solving with Gurobi's inbuilt solver"
   ]
  },
  {
   "cell_type": "markdown",
   "id": "bf820dc0-a3de-4328-a3be-937768a5740c",
   "metadata": {
    "id": "bf820dc0-a3de-4328-a3be-937768a5740c"
   },
   "source": [
    "### 1.1: Constructing model for inbuilt solver"
   ]
  },
  {
   "cell_type": "code",
   "execution_count": 3,
   "id": "21e3cc0e-f5ee-4e26-8456-c19ffa8da7bb",
   "metadata": {
    "id": "21e3cc0e-f5ee-4e26-8456-c19ffa8da7bb",
    "tags": []
   },
   "outputs": [],
   "source": [
    "class FCNFPSolver:\n",
    "    def __init__(self, problem_instance:FCNFP):\n",
    "        self.p = problem_instance\n",
    "        self.m = gp.Model(env=env, name=\"FCNFP\")\n",
    "        self.x = None\n",
    "        self.w = None\n",
    "        self.runtime = None\n",
    "\n",
    "\n",
    "    def build_model(self):\n",
    "        #Defining variables, objective and constraints\n",
    "\n",
    "        self.x = self.m.addVars(self.p.arcs, vtype=GRB.BINARY, name=\"x\")\n",
    "\n",
    "        self.w = self.m.addVars([(i,j,t) for (i,j) in self.p.arcs for t in self.p.nodes if t > 1],\n",
    "                                lb= 0, ub= GRB.INFINITY,name=\"w\")\n",
    "\n",
    "        self.m.setObjective(quicksum([self.p.flow_cost[i,j] * self.w[i,j,t] for (i,j) in self.p.arcs\n",
    "                                      for t in self.p.nodes if t > 1])\n",
    "                                     + self.x.prod(self.p.fixed_cost))\n",
    "\n",
    "        self.m.addConstrs(self.w.sum('*',1,t) - self.w.sum(1,'*',t) == -self.p.demand[t]\n",
    "                          for t in self.p.nodes if t > 1)\n",
    "\n",
    "        self.m.addConstrs(self.w.sum('*',i,t) - self.w.sum(i,'*',t) == 0\n",
    "                          for i in self.p.nodes for t in self.p.nodes\n",
    "                          if i > 1 and t >1 and i != t)\n",
    "\n",
    "        self.m.addConstrs(self.w.sum('*',t,t) - self.w.sum(t,'*',t) == self.p.demand[t]\n",
    "                          for t in self.p.nodes if t > 1)\n",
    "\n",
    "        self.m.addConstrs(self.w[i,j,t] <= p.demand[t] * self.x[i,j]\n",
    "                          for (i,j) in self.p.arcs for t in self.p.nodes if t > 1)\n",
    "\n",
    "    #Defining solver w. timelimit\n",
    "\n",
    "    def solve(self, time_limit_minutes = 2):\n",
    "        self.m.Params.OutputFlag = 0\n",
    "        self.m.Params.TimeLimit = 60 * time_limit_minutes\n",
    "        self.m.optimize()\n",
    "        self.runtime = self.m.Runtime\n",
    "\n",
    "    #Retrieving arc_results if optimality is reached\n",
    "\n",
    "    def print_arc_results(self):\n",
    "        if self.m.status == GRB.OPTIMAL or self.m.status == GRB.SUBOPTIMAL:\n",
    "            for i, j in self.p.arcs:\n",
    "                x_value = self.x[i, j].X\n",
    "                for t in [node for node in self.p.nodes if node > 1]:\n",
    "                    w_value = self.w[i, j, t].X\n",
    "                    print(f\"Arc ({i}, {j}, {t}): x = {x_value}, w = {w_value}\")\n",
    "        else:\n",
    "            print(f\"No solution found. Gurobi status code: {self.m.status}\")\n",
    "\n",
    "    #Retrieving optimal solution if one is found before time limit is reached\n",
    "    def print_objective_value(self):\n",
    "        if self.m.status == GRB.OPTIMAL or self.m.status == GRB.SUBOPTIMAL:\n",
    "            obj_value = self.m.ObjVal\n",
    "            print(f\"Objective Value: {obj_value}\")\n",
    "        else:\n",
    "            print(f\"No solution found. Gurobi status code: {self.m.status}\")\n",
    "\n",
    "    #Getting runtime (solving the model only)\n",
    "    def get_runtime(self):\n",
    "        if self.runtime is None:\n",
    "            print(\"The model has not been solved yet.\")\n",
    "            return None\n",
    "        return self.runtime\n"
   ]
  },
  {
   "cell_type": "markdown",
   "id": "dc5e470b-b9d0-4752-9ec7-c3bfcf5cc57e",
   "metadata": {
    "id": "dc5e470b-b9d0-4752-9ec7-c3bfcf5cc57e"
   },
   "source": [
    "### 1.2 Example"
   ]
  },
  {
   "cell_type": "code",
   "execution_count": 4,
   "id": "21e7d900-a4b5-411a-8289-15356683c80a",
   "metadata": {
    "colab": {
     "base_uri": "https://localhost:8080/"
    },
    "executionInfo": {
     "elapsed": 305,
     "status": "ok",
     "timestamp": 1698133868476,
     "user": {
      "displayName": "Karl Nørgaard",
      "userId": "13679087945431621420"
     },
     "user_tz": -120
    },
    "id": "21e7d900-a4b5-411a-8289-15356683c80a",
    "outputId": "ac3eed79-b1fb-430d-d913-f9ebd66344a5",
    "tags": []
   },
   "outputs": [
    {
     "name": "stdout",
     "output_type": "stream",
     "text": [
      "Total computation time 0.2901179790496826\n",
      "Solved in: 0.10067605972290039\n",
      "Objective Value: 49555.13365619624\n"
     ]
    }
   ],
   "source": [
    "# Defining problem instance, getting total runtime and showing objective value\n",
    "p = FCNFP(20, seed = 1)\n",
    "t1  = t.time()\n",
    "p.reduce_data()\n",
    "solver = FCNFPSolver(p)\n",
    "solver.build_model()\n",
    "solver.solve()\n",
    "t2 = t.time()\n",
    "print(\"Total computation time \" + str(t2-t1))\n",
    "print(\"Solved in: \" + str(solver.get_runtime()))\n",
    "solver.print_objective_value()"
   ]
  },
  {
   "cell_type": "markdown",
   "id": "95a03744-d24f-4136-9459-d525cdcfbdbb",
   "metadata": {
    "id": "95a03744-d24f-4136-9459-d525cdcfbdbb"
   },
   "source": [
    "# 2: Solving with Benders' Decomposition"
   ]
  },
  {
   "cell_type": "markdown",
   "id": "bc47c7bc-6b74-4028-b044-92cd1de2d95e",
   "metadata": {
    "id": "bc47c7bc-6b74-4028-b044-92cd1de2d95e"
   },
   "source": [
    "### 2.1 Feasibility subproblem"
   ]
  },
  {
   "cell_type": "code",
   "execution_count": 5,
   "id": "25f6b962-496f-4175-a071-cb09b8fe35c9",
   "metadata": {
    "id": "25f6b962-496f-4175-a071-cb09b8fe35c9",
    "tags": []
   },
   "outputs": [],
   "source": [
    "class FCNFP_FSP:\n",
    "    def __init__(self, problem_instance:FCNFP, x:dict):\n",
    "\n",
    "\n",
    "        self.p = problem_instance\n",
    "        self.m = Model(env=env)\n",
    "        self.x = x\n",
    "\n",
    "        # Variables\n",
    "        self.w = self.m.addVars([(i,j,t) for (i,j) in self.p.arcs for t in self.p.nodes if t > 1],\n",
    "                                lb= 0, ub= GRB.INFINITY,name=\"w\")\n",
    "\n",
    "        self.v1 = self.m.addVars([(i,j,t) for (i,j) in self.p.arcs for t in self.p.nodes if t > 1],\n",
    "                                lb= 0, ub= GRB.INFINITY,name=\"v1\")\n",
    "\n",
    "        self.v2 = self.m.addVars([(i,j,t) for (i,j) in self.p.arcs for t in self.p.nodes if t > 1],\n",
    "                                lb= 0, ub= GRB.INFINITY,name=\"v2\")\n",
    "\n",
    "\n",
    "\n",
    "        # Objective\n",
    "        expr = self.v1.sum() + self.v2.sum()\n",
    "\n",
    "        self.m.setObjective(expr, GRB.MINIMIZE)\n",
    "\n",
    "        # Constraints\n",
    "\n",
    "        self.root_constraint = self.m.addConstrs(self.w.sum('*',1,t) - self.w.sum(1,'*',t) +\n",
    "                                                 self.v1.sum(1, '*', t) - self.v2.sum(1, '*', t) == - self.p.demand[t]\n",
    "                  for t in self.p.nodes if t > 1)\n",
    "\n",
    "        self.flow_constraint = self.m.addConstrs(self.w.sum('*',i,t) + self.v1.sum('*',i,t) - self.w.sum(i,'*',t) - self.v2.sum(i,'*',t)  == 0\n",
    "                          for i in self.p.nodes for t in self.p.nodes\n",
    "                          if i > 1 and t > 1 and i != t)\n",
    "\n",
    "        self.terminal_constraint = self.m.addConstrs(self.w.sum('*',t,t) + self.v1.sum('*',t,t) - self.w.sum(t,'*',t) - self.v2.sum(t,'*',t) == self.p.demand[t]\n",
    "                          for t in self.p.nodes if t > 1)\n",
    "\n",
    "\n",
    "        self.demand_constraint = self.m.addConstrs(self.w[i,j,t] - self.v2[i,j,t] <= self.p.demand[t] * self.x[(i,j)]\n",
    "                          for (i,j) in self.p.arcs for t in self.p.nodes if t > 1)\n",
    "\n",
    "    def solve(self):\n",
    "        # Solve the problem\n",
    "        self.m.Params.OutputFlag = 0\n",
    "        self.m.optimize()\n",
    "\n",
    "    #Retrieving results\n",
    "    def getResults(self):\n",
    "        dualsRC = [self.root_constraint[t].Pi for t in self.p.nodes if t > 1]\n",
    "        dualsFC = [self.flow_constraint[i,t].Pi for i in self.p.nodes for t in self.p.nodes\n",
    "                          if i > 1 and t >1 and i != t]\n",
    "        dualsTC = [self.terminal_constraint[t].Pi for t in self.p.nodes if t > 1]\n",
    "        dualsDC = {(i, j, t): self.demand_constraint[i, j, t].Pi\n",
    "                for (i, j) in self.p.arcs\n",
    "                for t in self.p.nodes if t > 1}\n",
    "\n",
    "\n",
    "        return self.m.objVal, dualsRC, dualsFC, dualsTC, dualsDC\n",
    "\n"
   ]
  },
  {
   "cell_type": "markdown",
   "id": "af3b9441-5e04-4cb3-8b55-dfbe70527da8",
   "metadata": {
    "id": "af3b9441-5e04-4cb3-8b55-dfbe70527da8"
   },
   "source": [
    "### 2.2: Optimality subproblem"
   ]
  },
  {
   "cell_type": "code",
   "execution_count": 6,
   "id": "beebc024-4c2d-4131-8d3c-b0d52572ef9a",
   "metadata": {
    "id": "beebc024-4c2d-4131-8d3c-b0d52572ef9a",
    "tags": []
   },
   "outputs": [],
   "source": [
    "class FCNFP_OSP:\n",
    "    def __init__(self,problem_instance:FCNFP,x:dict):\n",
    "        self.p = problem_instance\n",
    "        self.x = x\n",
    "        self.m = Model(env=env)\n",
    "\n",
    "        # Variables\n",
    "        self.w = self.m.addVars([(i,j,t) for (i,j) in self.p.arcs for t in self.p.nodes if t > 1],\n",
    "                        lb= 0, ub= GRB.INFINITY,name=\"w\")\n",
    "\n",
    "        # Objective\n",
    "        self.m.setObjective(quicksum([self.p.flow_cost[i,j] * quicksum([self.w[i,j,t] for t in self.p.nodes if t > 1])\n",
    "                                      for (i,j) in self.p.arcs]))\n",
    "\n",
    "        # Constraints\n",
    "\n",
    "        self.root_constraint = self.m.addConstrs(self.w.sum('*',1,t) - self.w.sum(1,'*',t) == - self.p.demand[t]\n",
    "                  for t in self.p.nodes if t > 1)\n",
    "\n",
    "        self.flow_constraint = self.m.addConstrs(self.w.sum('*',i,t) - self.w.sum(i,'*',t) == 0\n",
    "                          for i in self.p.nodes for t in self.p.nodes\n",
    "                          if i > 1 and t > 1 and i != t)\n",
    "\n",
    "        self.terminal_constraint = self.m.addConstrs(self.w.sum('*',t,t) - self.w.sum(t,'*',t) == self.p.demand[t]\n",
    "                          for t in self.p.nodes if t > 1)\n",
    "\n",
    "        self.demand_constraint = self.m.addConstrs(self.w[i,j,t] <= p.demand[t] * self.x[(i,j)]\n",
    "                          for (i,j) in self.p.arcs for t in self.p.nodes if t > 1)\n",
    "    #solving\n",
    "    def solve(self):\n",
    "        self.m.Params.OutputFlag = 0\n",
    "        self.m.optimize()\n",
    "    #retrieving results\n",
    "    def getResults(self):\n",
    "\n",
    "        dualsRC = [self.root_constraint[t].Pi for t in self.p.nodes if t > 1]\n",
    "        dualsFC = [self.flow_constraint[i,t].Pi for i in self.p.nodes for t in self.p.nodes\n",
    "                          if i > 1 and t >1 and i != t]\n",
    "        dualsTC = [self.terminal_constraint[t].Pi for t in self.p.nodes if t > 1]\n",
    "        dualsDC = {(i, j, t): self.demand_constraint[i, j, t].Pi\n",
    "                for (i, j) in self.p.arcs\n",
    "                for t in self.p.nodes if t > 1}\n",
    "\n",
    "        return self.m.objVal, dualsRC, dualsFC, dualsTC, dualsDC\n",
    "\n",
    "\n"
   ]
  },
  {
   "cell_type": "markdown",
   "id": "2052fca4-48f0-4ab8-97d8-c6cfb39d20b0",
   "metadata": {
    "id": "2052fca4-48f0-4ab8-97d8-c6cfb39d20b0"
   },
   "source": [
    "### 2.3: Master Problem"
   ]
  },
  {
   "cell_type": "code",
   "execution_count": 7,
   "id": "663691ca-24ad-41b3-95ee-92518b0e8e57",
   "metadata": {
    "id": "663691ca-24ad-41b3-95ee-92518b0e8e57",
    "tags": []
   },
   "outputs": [],
   "source": [
    "class Master:\n",
    "\n",
    "    def __init__(self, problem_instance:FCNFP, threshold:float):\n",
    "        self.p=problem_instance\n",
    "        self.phi = None\n",
    "        self.x = None\n",
    "        self.m = Model(env=env)\n",
    "        self.threshold=threshold\n",
    "\n",
    "    def build_model(self):\n",
    "       #variables\n",
    "        self.phi = self.m.addVar(vtype = GRB.CONTINUOUS, name = 'phi')\n",
    "        self.x = self.m.addVars(self.p.arcs, vtype = GRB.BINARY, name = 'x')\n",
    "\n",
    "        # Making sure variables are visible in callback\n",
    "        self.m._x = self.x\n",
    "        self.m._phi = self.phi\n",
    "\n",
    "        #setting objective\n",
    "        expr = self.phi + quicksum([self.p.fixed_cost[i,j] * self.x[i,j] for (i,j) in self.p.arcs])\n",
    "\n",
    "        self.m.setObjective(expr, GRB.MINIMIZE)\n",
    "\n",
    "        #guiding solver by adding logical constraints\n",
    "\n",
    "        #sufficiently cheap arcs from root nodes must be used\n",
    "        for (_, j) in [(i, j) for (i, j) in self.p.arcs if i == 1 and self.p.flow_cost[i,j] <= 36]:\n",
    "            self.m.addConstr(self.x[1,j] == 1)\n",
    "\n",
    "        #adding minimal flow cost to satidfy demand as lower bound on phi\n",
    "        proposed_bound = self.p.compute_improved_lower_bound()\n",
    "        self.m.addConstr(self.phi>=proposed_bound)\n",
    "\n",
    "        #Exactly one arc should be used to access all nodes apart from root\n",
    "        for i in self.p.nodes[1:]:\n",
    "            entering_arcs_sum = quicksum(self.x[(k, i)] for k in self.p.nodes if (k, i) in self.p.arcs)\n",
    "            self.m.addConstr(entering_arcs_sum == 1)\n",
    "        #Should always use exactly one less arc than there are nodes\n",
    "        self.m.addConstr(quicksum(self.x[(i,j)] for (i,j) in self.p.arcs) == len(self.p.nodes) - 1)\n",
    "        #At most one arc connecting two nodes should be active\n",
    "        for (i,j) in self.p.two_way_arcs:\n",
    "            self.m.addConstr(self.x[i,j] + self.x[j,i] <= 1)\n",
    "    #solving the model\n",
    "    def solve(self):\n",
    "        #starting timer\n",
    "        t1=t.time()\n",
    "        def callback(model, where):\n",
    "\n",
    "\n",
    "            if where == GRB.Callback.MIPSOL:\n",
    "\n",
    "                x_val = model.cbGetSolution(model._x)\n",
    "                phi_val = model.cbGetSolution(model._phi)\n",
    "                if abs(t.time()-t1)>self.threshold:\n",
    "                    #stopping if time limit is reached\n",
    "                    print('out of time')\n",
    "                    model.terminate()\n",
    "\n",
    "                # solving feasibility subproblem\n",
    "                fsp = FCNFP_FSP(self.p, x_val)\n",
    "                fsp.solve()\n",
    "                obj, dualsRC, dualsFC, dualsTC, dualsDC = fsp.getResults()\n",
    "                # checking feasibility, adding cut if required\n",
    "                if obj > 0:\n",
    "                    constr = quicksum([-dualsRC[(t-2)] * self.p.demand[t] + dualsTC[(t-2)] * self.p.demand[t] for t in self.p.nodes if t > 1]) + quicksum([dualsDC[i, j, t] * self.p.demand[t] * self.x[i, j] for (i, j) in self.p.arcs for t in self.p.nodes if t > 1])\n",
    "                    model.cbLazy(constr<=0)\n",
    "\n",
    "                else:\n",
    "                    # solving optimality subproblem\n",
    "                    osp = FCNFP_OSP(self.p, x_val)\n",
    "                    osp.solve()\n",
    "\n",
    "                    obj, dualsRC, dualsFC, dualsTC, dualsDC = osp.getResults()\n",
    "\n",
    "                    # Checking for optimality\n",
    "                    if phi_val >= obj:\n",
    "                        print(\"Optimal solution found\")\n",
    "                    #Adding cut if required\n",
    "                    else:\n",
    "                        bound = model._phi\n",
    "                        constr = quicksum([-dualsRC[(t-2)] * self.p.demand[t] + dualsTC[(t-2)] * self.p.demand[t] for t in self.p.nodes if t > 1]) + quicksum([dualsDC[i, j, t] * self.p.demand[t] * self.x[i, j] for (i, j) in self.p.arcs for t in self.p.nodes if t > 1])\n",
    "                        model.cbLazy(bound >= constr)\n",
    "        #making sure to add lazy constraint\n",
    "        self.m.setParam(GRB.Param.LazyConstraints, 1)\n",
    "        # Passing callback to the optimization method.\n",
    "        self.m.setParam(GRB.Param.OutputFlag,0)\n",
    "        self.m.optimize(callback)\n",
    "    #printing solution\n",
    "    def print_solution(self):\n",
    "        print('objective value is ' +str(self.m.objVal))\n",
    "    #printing arcs for solution if one is found\n",
    "    def print_arc_results(self):\n",
    "        if self.m.status == GRB.OPTIMAL or self.m.status == GRB.SUBOPTIMAL:\n",
    "            for i, j in self.p.arcs:\n",
    "                x_value = self.x[i, j].X\n",
    "                print(f\"Arc ({i}, {j}): x = {x_value}\")\n",
    "        else:\n",
    "            print(f\"No solution found. Gurobi status code: {self.m.status}\")\n",
    "\n",
    "    def get_solution(self, gurobi = True):\n",
    "        if gurobi:\n",
    "            return self.m.objVal\n",
    "        if not gurobi:\n",
    "            obj_val = self.phi.X\n",
    "            for (i, j) in self.p.arcs:\n",
    "                obj_val += self.p.fixed_cost[i, j] * self.x[i, j].X\n",
    "            return obj_val\n",
    "\n",
    "\n"
   ]
  },
  {
   "cell_type": "markdown",
   "id": "7c325c5b-0172-4a04-bc86-96f40929742b",
   "metadata": {
    "id": "7c325c5b-0172-4a04-bc86-96f40929742b"
   },
   "source": [
    "### 2.4: Example"
   ]
  },
  {
   "cell_type": "code",
   "execution_count": null,
   "id": "60c06284-e518-49ab-9e50-b903a249e961",
   "metadata": {
    "colab": {
     "base_uri": "https://localhost:8080/"
    },
    "executionInfo": {
     "elapsed": 137324,
     "status": "ok",
     "timestamp": 1698135519692,
     "user": {
      "displayName": "Karl Nørgaard",
      "userId": "13679087945431621420"
     },
     "user_tz": -120
    },
    "id": "60c06284-e518-49ab-9e50-b903a249e961",
    "outputId": "c16d8447-3662-4a86-ac6b-3526c16bc3b2",
    "tags": []
   },
   "outputs": [
    {
     "name": "stdout",
     "output_type": "stream",
     "text": [
      "Set parameter LazyConstraints to value 1\n",
      "Optimal solution found\n",
      "Optimal solution found\n",
      "Optimal solution found\n"
     ]
    }
   ],
   "source": [
    "p = FCNFP(n_nodes = 20, seed=1)\n",
    "t_1=t.time()\n",
    "p.reduce_data()\n",
    "example=Master(p,threshold=3000)\n",
    "example.build_model()\n",
    "example.solve()\n",
    "t_2=t.time()\n",
    "print('Total runtime including building the model is: ' +str(t_2-t_1))\n",
    "example.print_solution()\n",
    "example.print_arc_results()"
   ]
  },
  {
   "cell_type": "markdown",
   "id": "6289546c-ebf8-46ed-8a40-2fc287755d6b",
   "metadata": {
    "id": "6289546c-ebf8-46ed-8a40-2fc287755d6b"
   },
   "source": [
    "# 4: Plots"
   ]
  },
  {
   "cell_type": "markdown",
   "id": "568fa380-52db-450b-9db0-1b0ff549ec53",
   "metadata": {
    "id": "568fa380-52db-450b-9db0-1b0ff549ec53"
   },
   "source": [
    "### 4.1: Showing reduced network"
   ]
  },
  {
   "cell_type": "code",
   "execution_count": null,
   "id": "0b023168-2580-4d27-8853-8815a49951f2",
   "metadata": {
    "colab": {
     "base_uri": "https://localhost:8080/",
     "height": 539
    },
    "executionInfo": {
     "elapsed": 664,
     "status": "ok",
     "timestamp": 1698134021990,
     "user": {
      "displayName": "Karl Nørgaard",
      "userId": "13679087945431621420"
     },
     "user_tz": -120
    },
    "id": "0b023168-2580-4d27-8853-8815a49951f2",
    "outputId": "a63e34d2-1573-42ef-c188-fa5ce3969f5b",
    "tags": []
   },
   "outputs": [
    {
     "data": {
      "image/png": "[encoded data removed]",
      "text/plain": [
       "<Figure size 640x480 with 1 Axes>"
      ]
     },
     "metadata": {},
     "output_type": "display_data"
    }
   ],
   "source": [
    "# Create a directed graph\n",
    "\n",
    "p.reduce_data()\n",
    "G = nx.DiGraph()\n",
    "\n",
    "# Add edges to the graph from the arcs list\n",
    "G.add_edges_from(p.arcs)\n",
    "\n",
    "# Draw the graph\n",
    "pos = nx.spring_layout(G)  # This defines the layout of the graph\n",
    "nx.draw(G, pos, with_labels=True, node_size=700, node_color='skyblue', font_size=15, width=1, edge_color='gray', arrowstyle='-|>')\n",
    "\n",
    "plt.title(\"Fixed charge network flow\")\n",
    "plt.show()"
   ]
  },
  {
   "cell_type": "code",
   "execution_count": null,
   "id": "ba967fad-fff5-4081-a0d4-2665db9e8393",
   "metadata": {
    "colab": {
     "base_uri": "https://localhost:8080/"
    },
    "executionInfo": {
     "elapsed": 284,
     "status": "ok",
     "timestamp": 1698134030694,
     "user": {
      "displayName": "Karl Nørgaard",
      "userId": "13679087945431621420"
     },
     "user_tz": -120
    },
    "id": "ba967fad-fff5-4081-a0d4-2665db9e8393",
    "outputId": "834f9983-ad25-4a29-f735-b300c6db9147",
    "tags": []
   },
   "outputs": [
    {
     "data": {
      "text/plain": [
       "{(1, 2): 28.442331511654345,\n",
       " (1, 3): 20.580815751497358,\n",
       " (1, 5): 24.4338333254607,\n",
       " (5, 4): 39.850868243521305}"
      ]
     },
     "execution_count": 16,
     "metadata": {},
     "output_type": "execute_result"
    }
   ],
   "source": [
    "p.flow_cost"
   ]
  },
  {
   "cell_type": "markdown",
   "id": "98f7fd57-b7a8-4b04-8284-25292dff1884",
   "metadata": {
    "id": "98f7fd57-b7a8-4b04-8284-25292dff1884"
   },
   "source": [
    "### 4.2: Bound Comparison"
   ]
  },
  {
   "cell_type": "code",
   "execution_count": null,
   "id": "eac139ad-c83b-4718-aee3-db304f18ba55",
   "metadata": {
    "id": "eac139ad-c83b-4718-aee3-db304f18ba55"
   },
   "outputs": [],
   "source": [
    "# Experiment showing the quality of the lower bound on phi\n",
    "\n",
    "n_values = [15, 30, 50, 75, 100, 125, 150]\n",
    "n_simulations = 50\n",
    "\n",
    "# Store results for each method\n",
    "results = {\n",
    "    'proposed': {'median': [], 'worst': [], 'best': []},\n",
    "    'trivial': {'median': [], 'worst': [], 'best': []},\n",
    "    'strengthened': {'median': [], 'worst': [], 'best': []}\n",
    "}\n",
    "\n",
    "for n in n_values:\n",
    "    print(f\"Processing for n = {n} ...\")\n",
    "\n",
    "    # Store gaps for current n for each method\n",
    "    gaps = {'proposed': [], 'trivial': [], 'strengthened': []}\n",
    "\n",
    "    for _ in range(n_simulations):\n",
    "        # Create problem instance\n",
    "        t1 = t.time()\n",
    "        p_instance = FCNFP(n, t1)\n",
    "        p_instance.reduce_data()\n",
    "        # Compute lower bounds\n",
    "        lb_proposed = p_instance.compute_improved_lower_bound()\n",
    "        lb_trivial = -p_instance.demand[1] * min(p_instance.flow_cost.values())\n",
    "\n",
    "        direct_flow_costs1 = [p_instance.flow_cost[(1, j)] for j in p_instance.nodes_connected_to_root if j > 1]\n",
    "\n",
    "        if p_instance.nodes_not_connected_to_root:\n",
    "            direct_flow_costs2 = [p_instance.flow_cost[(i, j)] for i in p_instance.nodes_connected_to_root\n",
    "                                  for j in p_instance.nodes_not_connected_to_root if (i, j) in p_instance.arcs]\n",
    "        else:\n",
    "            direct_flow_costs2 = [0]\n",
    "\n",
    "        lb_strengthened = -min(direct_flow_costs1) * p_instance.demand[1] + min(direct_flow_costs2) * sum(p_instance.demand[j] for j in p_instance.nodes_not_connected_to_root)\n",
    "\n",
    "        # Solve the problem\n",
    "        solver = FCNFPSolver(p_instance)\n",
    "        solver.build_model()\n",
    "        solver.solve()\n",
    "\n",
    "        # Get the objective value\n",
    "        obj_val = solver.get_objective_value()\n",
    "\n",
    "        if obj_val is not None:\n",
    "            gaps['proposed'].append(lb_proposed / obj_val)\n",
    "            gaps['trivial'].append(lb_trivial / obj_val)\n",
    "            gaps['strengthened'].append(lb_strengthened / obj_val)\n",
    "\n",
    "    for method, values in gaps.items():\n",
    "        results[method]['median'].append(np.median(values))\n",
    "        results[method]['worst'].append(max(values))\n",
    "        results[method]['best'].append(min(values))"
   ]
  },
  {
   "cell_type": "code",
   "execution_count": null,
   "id": "a559187e-be06-4205-8b29-57d2fd0c92f0",
   "metadata": {
    "id": "a559187e-be06-4205-8b29-57d2fd0c92f0"
   },
   "outputs": [],
   "source": [
    "plt.figure(figsize=(12, 6))\n",
    "\n",
    "# Colorblind-friendly palette\n",
    "colors = {'proposed': '#E69F00', 'trivial': '#56B4E9', 'strengthened': '#009E73'}\n",
    "\n",
    "for method, color in colors.items():\n",
    "    # Ribbon around the median\n",
    "    plt.fill_between(n_values, results[method]['best'], results[method]['worst'], color=color, alpha=0.4)\n",
    "\n",
    "    # Plotting lines for median with thicker line\n",
    "    plt.plot(n_values, results[method]['median'], linestyle='-', color=color, label=f'{method.capitalize()}', linewidth=2.5)\n",
    "\n",
    "# Title and labels\n",
    "#plt.title(\"Gap Between Lower Bound and Objective Value\", fontsize=18, fontweight='bold')\n",
    "plt.xlabel(\"Number of Nodes (n_nodes)\", fontweight='bold', fontsize=18)\n",
    "plt.ylabel(\"Gap\", fontweight='bold', fontsize=18)\n",
    "\n",
    "# Bold legend labels\n",
    "legend = plt.legend(loc=\"center left\", bbox_to_anchor=(1, 0.5), fontsize = 14)\n",
    "for text in legend.get_texts():\n",
    "    text.set_fontweight('bold')\n",
    "\n",
    "# Grid style and axis width\n",
    "plt.grid(True, which='both', linestyle='--', linewidth=0.5)\n",
    "ax = plt.gca()\n",
    "ax.spines['top'].set_visible(False)\n",
    "ax.spines['right'].set_visible(False)\n",
    "ax.spines['bottom'].set_linewidth(1.5)\n",
    "ax.spines['left'].set_linewidth(1.5)\n",
    "\n",
    "plt.tight_layout()\n",
    "plt.show()"
   ]
  },
  {
   "cell_type": "markdown",
   "id": "_4wydWdD64kj",
   "metadata": {
    "id": "_4wydWdD64kj"
   },
   "source": [
    "### 4.3 Computation Time Comparison"
   ]
  },
  {
   "cell_type": "code",
   "execution_count": null,
   "id": "7b04f439-7580-40ad-9028-77d0e3149b77",
   "metadata": {
    "id": "7b04f439-7580-40ad-9028-77d0e3149b77"
   },
   "outputs": [],
   "source": [
    "# Comparison of computation times:\n",
    "methods = ['trivial', 'strengthened', 'proposed']\n",
    "computation_times = {method: {'median': [], 'best': [], 'worst': []} for method in methods}\n",
    "\n",
    "for n in n_values:\n",
    "    print(f\"Processing n = {n}\")\n",
    "    times_for_current_n = {method: [] for method in methods}\n",
    "\n",
    "    for _ in range(n_simulations):\n",
    "        p_instance = FCNFP(n, t.time())\n",
    "        p_instance.reduce_data()\n",
    "        # Trivial method\n",
    "        start_time = t.time()\n",
    "        trivial_lower_bound = p_instance.demand[1] * min(p_instance.flow_cost.values())\n",
    "        elapsed_time = t.time() - start_time\n",
    "        times_for_current_n['trivial'].append(elapsed_time)\n",
    "\n",
    "        # Strengthened method\n",
    "        start_time = t.time()\n",
    "        direct_flow_costs1 = [p_instance.flow_cost[(1, j)] for j in p_instance.nodes_connected_to_root if j > 1]\n",
    "        if p_instance.nodes_not_connected_to_root:\n",
    "            direct_flow_costs2 = [p_instance.flow_cost[(i, j)] for i in p_instance.nodes_connected_to_root\n",
    "                                  for j in p_instance.nodes_not_connected_to_root if (i,j) in p_instance.arcs]\n",
    "        else:\n",
    "            direct_flow_costs2 = [0]\n",
    "        strengthened_bound2 = -min(direct_flow_costs1) * p_instance.demand[1] + min(direct_flow_costs2) * sum(p_instance.demand[j] for j in p_instance.nodes_not_connected_to_root)\n",
    "        elapsed_time = t.time() - start_time\n",
    "        times_for_current_n['strengthened'].append(elapsed_time)\n",
    "\n",
    "        # Proposed method\n",
    "        start_time = t.time()\n",
    "        proposed_lower_bound = p_instance.compute_improved_lower_bound()\n",
    "        elapsed_time = t.time() - start_time\n",
    "        times_for_current_n['proposed'].append(elapsed_time)\n",
    "\n",
    "    for method in methods:\n",
    "        avg_time = np.median(times_for_current_n[method])\n",
    "        worst_time = max(times_for_current_n[method])\n",
    "        best_time = min(times_for_current_n[method])\n",
    "\n",
    "        computation_times[method]['median'].append(avg_time)\n",
    "        computation_times[method]['worst'].append(worst_time)\n",
    "        computation_times[method]['best'].append(best_time)"
   ]
  },
  {
   "cell_type": "code",
   "execution_count": null,
   "id": "3077674c-df8a-4a09-845a-6e5df3274389",
   "metadata": {
    "id": "3077674c-df8a-4a09-845a-6e5df3274389"
   },
   "outputs": [],
   "source": [
    "plt.figure(figsize=(12, 6))\n",
    "colors = {'proposed': '#E69F00', 'trivial': '#56B4E9', 'strengthened': '#009E73'}\n",
    "\n",
    "for method, color in colors.items():\n",
    "    # Ribbon around the median\n",
    "    plt.fill_between(n_values, computation_times[method]['best'], computation_times[method]['worst'], color=color, alpha=0.4)\n",
    "    # Plotting lines for median with thicker line\n",
    "    plt.plot(n_values, computation_times[method]['median'], linestyle='-', color=color, label=f'{method.capitalize()}', linewidth=2.5)\n",
    "\n",
    "plt.xlabel(\"Number of Nodes (n_nodes)\", fontweight='bold', fontsize=14)\n",
    "plt.ylabel(\"Time (seconds) (log scale)\", fontweight='bold', fontsize=14)  # Updated y-axis label\n",
    "plt.grid(True)\n",
    "legend = plt.legend(loc=\"center left\", bbox_to_anchor=(1, 0.5), fontsize=14)\n",
    "for text in legend.get_texts():\n",
    "    text.set_fontweight('bold')\n",
    "plt.tight_layout()\n",
    "plt.yscale(\"log\")\n",
    "plt.show()"
   ]
  },
  {
   "cell_type": "markdown",
   "id": "Y3eT6Oh26-k8",
   "metadata": {
    "id": "Y3eT6Oh26-k8"
   },
   "source": [
    "### 4.4: Solver/Heuristic Comparison"
   ]
  },
  {
   "cell_type": "code",
   "execution_count": null,
   "id": "4fa9b24a-7520-4755-8279-49677d9073c1",
   "metadata": {
    "id": "4fa9b24a-7520-4755-8279-49677d9073c1"
   },
   "outputs": [],
   "source": [
    "# Experiment Parameters\n",
    "n_values = [10, 20, 30, 50, 75, 100, 125, 175, 225, 275, 300]\n",
    "repeats = 20\n",
    "\n",
    "overall_results = {\n",
    "    'runtime_ratio': {'worst': [], 'median': [], 'best': []},\n",
    "    'objective_ratio': {'worst': [], 'median': [], 'best': []},\n",
    "    'solver_runtimes': {'worst': [], 'median': [], 'best': []},\n",
    "    'heuristic_runtimes': {'worst': [], 'median': [], 'best': []}\n",
    "}\n",
    "\n",
    "for n in n_values:\n",
    "    print(f'Grinding... {n}')\n",
    "    runtime_ratios = []\n",
    "    objective_ratios = []\n",
    "    solver_runtimes_list = []\n",
    "    heuristic_runtimes_list = []\n",
    "\n",
    "    for i in range(repeats):\n",
    "        if ((i+1) % 5 == 0 or (i+1) == 1) and n >= 100:\n",
    "            print(f'currently at: {i+1}')\n",
    "        p = FCNFP(n, t.time())\n",
    "        p.reduce_data()\n",
    "\n",
    "        # Solver\n",
    "        t1 = t.time()\n",
    "        solver = FCNFPSolver(p)\n",
    "        solver.build_model()\n",
    "        solver.solve()\n",
    "        solver_objective_val = solver.get_objective_value()\n",
    "        t2 = t.time()\n",
    "        solver_runtime = t2-t1\n",
    "\n",
    "        # Heuristic\n",
    "        t3 = t.time()\n",
    "        heuristic_val, _ = p.heuristic_solution()\n",
    "        t4 = t.time()\n",
    "        heuristic_runtime = t4-t3\n",
    "\n",
    "        # Compute ratios and store absolute runtimes\n",
    "        runtime_ratios.append(solver_runtime/heuristic_runtime)\n",
    "        objective_ratios.append(heuristic_val/solver_objective_val)\n",
    "        solver_runtimes_list.append(solver_runtime)\n",
    "        heuristic_runtimes_list.append(heuristic_runtime)\n",
    "\n",
    "    # Store results\n",
    "    overall_results['runtime_ratio']['worst'].append(max(runtime_ratios))\n",
    "    overall_results['runtime_ratio']['median'].append(np.median(runtime_ratios))\n",
    "    overall_results['runtime_ratio']['best'].append(min(runtime_ratios))\n",
    "\n",
    "    overall_results['objective_ratio']['worst'].append(max(objective_ratios))\n",
    "    overall_results['objective_ratio']['median'].append(np.median(objective_ratios))\n",
    "    overall_results['objective_ratio']['best'].append(min(objective_ratios))\n",
    "\n",
    "    overall_results['solver_runtimes']['worst'].append(max(solver_runtimes_list))\n",
    "    overall_results['solver_runtimes']['median'].append(np.median(solver_runtimes_list))\n",
    "    overall_results['solver_runtimes']['best'].append(min(solver_runtimes_list))\n",
    "\n",
    "    overall_results['heuristic_runtimes']['worst'].append(max(heuristic_runtimes_list))\n",
    "    overall_results['heuristic_runtimes']['median'].append(np.median(heuristic_runtimes_list))\n",
    "    overall_results['heuristic_runtimes']['best'].append(min(heuristic_runtimes_list))\n",
    "print(\"Done\")\n"
   ]
  },
  {
   "cell_type": "code",
   "execution_count": null,
   "id": "eeda603f-f586-45e0-9552-8d35ec9df439",
   "metadata": {
    "id": "eeda603f-f586-45e0-9552-8d35ec9df439"
   },
   "outputs": [],
   "source": [
    "# Plotting Runtime Ratios\n",
    "plt.figure(figsize=(12, 6))\n",
    "\n",
    "method = 'runtime_ratio'\n",
    "color = '#E69F00'\n",
    "\n",
    "plt.fill_between(n_values, overall_results[method]['best'], overall_results[method]['worst'], color=color, alpha=0.4)\n",
    "plt.plot(n_values, overall_results[method]['median'], linestyle='-', color=color, label=f'Median Runtime Ratio', linewidth=2.5)\n",
    "\n",
    "plt.xlabel(\"Number of Nodes (n_nodes)\", fontweight='bold', fontsize=18)\n",
    "plt.ylabel(\"Runtime Ratio\", fontweight='bold', fontsize=18)\n",
    "\n",
    "plt.grid(True)\n",
    "ax = plt.gca()\n",
    "ax.spines['top'].set_visible(False)\n",
    "ax.spines['right'].set_visible(False)\n",
    "ax.spines['bottom'].set_linewidth(1.5)\n",
    "ax.spines['left'].set_linewidth(1.5)\n",
    "plt.xticks(fontsize=16)\n",
    "plt.yticks(fontsize=16)\n",
    "#plt.yscale(\"log\")\n",
    "plt.tight_layout()\n",
    "plt.show()\n",
    "\n",
    "# Plotting Objective Value Ratios\n",
    "plt.figure(figsize=(12, 6))\n",
    "\n",
    "method = 'objective_ratio'\n",
    "color = '#56B4E9'\n",
    "\n",
    "plt.fill_between(n_values, overall_results[method]['best'], overall_results[method]['worst'], color=color, alpha=0.4)\n",
    "plt.plot(n_values, overall_results[method]['median'], linestyle='-', color=color, label=f'Median Objective Value Ratio', linewidth=2.5)\n",
    "\n",
    "plt.xlabel(\"Number of Nodes (n_nodes)\", fontweight='bold', fontsize=18)\n",
    "plt.ylabel(\"Objective Value Ratio\", fontweight='bold', fontsize=18)\n",
    "\n",
    "plt.grid(True)\n",
    "ax = plt.gca()\n",
    "ax.spines['top'].set_visible(False)\n",
    "ax.spines['right'].set_visible(False)\n",
    "ax.spines['bottom'].set_linewidth(1.5)\n",
    "ax.spines['left'].set_linewidth(1.5)\n",
    "plt.xticks(fontsize=16)\n",
    "plt.yticks(fontsize=16)\n",
    "plt.tight_layout()\n",
    "plt.show()\n",
    "\n",
    "# Plotting Absolute Runtimes for Solver and Heuristic\n",
    "plt.figure(figsize=(12, 6))\n",
    "\n",
    "\n",
    "plt.fill_between(n_values, overall_results['solver_runtimes']['best'], overall_results['solver_runtimes']['worst'], color='#009E73', alpha=0.4)\n",
    "plt.plot(n_values, overall_results['solver_runtimes']['median'], linestyle='-', color='#009E73', label=f'Median Solver Runtime', linewidth=2.5)\n",
    "\n",
    "plt.fill_between(n_values, overall_results['heuristic_runtimes']['best'], overall_results['heuristic_runtimes']['worst'], color='#D55E00', alpha=0.4)\n",
    "plt.plot(n_values, overall_results['heuristic_runtimes']['median'], linestyle='-', color='#D55E00', label=f'Median Heuristic Runtime', linewidth=2.5)\n",
    "\n",
    "plt.xlabel(\"Number of Nodes (n_nodes)\", fontweight='bold', fontsize=18)\n",
    "plt.ylabel(\"Absolute Runtime (seconds) (log scale)\", fontweight='bold', fontsize=16)\n",
    "\n",
    "plt.legend(loc=\"upper left\", fontsize = 18)\n",
    "plt.grid(True)\n",
    "ax = plt.gca()\n",
    "ax.spines['top'].set_visible(False)\n",
    "ax.spines['right'].set_visible(False)\n",
    "ax.spines['bottom'].set_linewidth(1.5)\n",
    "ax.spines['left'].set_linewidth(1.5)\n",
    "plt.xticks(fontsize=16)\n",
    "plt.yticks(fontsize=16)\n",
    "plt.yscale(\"log\")\n",
    "#plt.xscale(\"log\")\n",
    "plt.tight_layout()\n",
    "plt.show()"
   ]
  }
 ],
 "metadata": {
  "colab": {
   "provenance": []
  },
  "kernelspec": {
   "display_name": "Python 3 (ipykernel)",
   "language": "python",
   "name": "python3"
  },
  "language_info": {
   "codemirror_mode": {
    "name": "ipython",
    "version": 3
   },
   "file_extension": ".py",
   "mimetype": "text/x-python",
   "name": "python",
   "nbconvert_exporter": "python",
   "pygments_lexer": "ipython3",
   "version": "3.10.12"
  }
 },
 "nbformat": 4,
 "nbformat_minor": 5
}
